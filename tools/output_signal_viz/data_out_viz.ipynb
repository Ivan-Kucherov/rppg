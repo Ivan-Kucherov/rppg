{
 "cells": [
  {
   "cell_type": "markdown",
   "id": "392e88c6",
   "metadata": {},
   "source": [
    "# Model Output Data Visualization"
   ]
  },
  {
   "cell_type": "markdown",
   "id": "c1388915",
   "metadata": {},
   "source": [
    "### Read Me"
   ]
  },
  {
   "cell_type": "markdown",
   "id": "a46350ff",
   "metadata": {},
   "source": [
    "This notebook vizualizes model outputs for supervised neural methods from the rPPG Toolbox. To use this notebook follow the following steps:\n",
    "\n",
    "* STEP 1: Specify the `TEST.OUTPUT_SAVE_DIR` field in the `.yaml` config file of a neural method experiment.\n",
    "* STEP 2: Run the neural method experiment. A `.pickle` file containing the test-data predictions and labels will be created in `TEST.OUTPUT_SAVE_DIR`.\n",
    "* STEP 3: Add the path to the `pickle` file in the `TODO: Variable to Set` section as `data_out_path`.\n",
    "* STEP 4: Add values for `trial_idx` (a value between 0 and the `Num Trials` print in the previous cell), `chunk_size` (number of samples to plot out), `chunk_num` (the chunk of size `chunk_size` in the signal). We suggest using the defaults at first.\n",
    "* STEP 5: Run all cells. The predicted output, plotted against the ground truth ppg waveform, will be plotted in the final cell"
   ]
  },
  {
   "cell_type": "markdown",
   "id": "3e8715af",
   "metadata": {},
   "source": [
    "### Imports"
   ]
  },
  {
   "cell_type": "code",
   "execution_count": 1,
   "id": "81dc2cd1",
   "metadata": {},
   "outputs": [
    {
     "name": "stdout",
     "output_type": "stream",
     "text": [
      "Requirement already satisfied: scipy in e:\\anaconda\\envs\\rppg-toolbox\\lib\\site-packages (1.10.1)\n",
      "Requirement already satisfied: numpy<1.27.0,>=1.19.5 in e:\\anaconda\\envs\\rppg-toolbox\\lib\\site-packages (from scipy) (1.22.0)\n"
     ]
    }
   ],
   "source": [
    "# !pip install natsort\n",
    "!pip install scipy\n",
    "# !pip install natsort\n",
    "# !pip install ipywidgets\n",
    "\n",
    "import cv2\n",
    "import pickle\n",
    "import numpy as np\n",
    "import os\n",
    "import matplotlib.pyplot as plt\n",
    "import re\n",
    "import glob\n",
    "\n",
    "import torch\n",
    "\n",
    "import numpy as np\n",
    "# import ipywidgets as widgets\n",
    "from IPython.display import display, clear_output\n",
    "from natsort import natsorted\n",
    "import os\n",
    "import scipy\n",
    "from scipy.sparse import spdiags\n",
    "from scipy.signal import butter\n",
    "import math\n",
    "from scipy import linalg\n",
    "from scipy import signal\n",
    "from scipy import sparse"
   ]
  },
  {
   "cell_type": "markdown",
   "id": "3ed1f270",
   "metadata": {},
   "source": [
    "### Helper Functions"
   ]
  },
  {
   "cell_type": "code",
   "execution_count": 2,
   "id": "d99b8717",
   "metadata": {},
   "outputs": [],
   "source": [
    "# HELPER FUNCTIONS\n",
    "\n",
    "def _reform_data_from_dict(data, flatten=True):\n",
    "    \"\"\"Helper func for calculate metrics: reformat predictions and labels from dicts. \"\"\"\n",
    "    sort_data = sorted(data.items(), key=lambda x: x[0])\n",
    "    sort_data = [i[1] for i in sort_data]\n",
    "    sort_data = torch.cat(sort_data, dim=0)\n",
    "\n",
    "    if flatten:\n",
    "        sort_data = np.reshape(sort_data.cpu(), (-1))\n",
    "    else:\n",
    "        sort_data = np.array(sort_data.cpu())\n",
    "\n",
    "    return sort_data\n",
    "\n",
    "def _process_signal(signal, fs=30, diff_flag=True):\n",
    "    # Detrend and filter\n",
    "    use_bandpass = True\n",
    "    if diff_flag:  # if the predictions and labels are 1st derivative of PPG signal.\n",
    "        gt_bvp = _detrend(np.cumsum(signal), 100)\n",
    "    else:\n",
    "        gt_bvp = _detrend(signal, 100)\n",
    "    if use_bandpass:\n",
    "        # bandpass filter between [0.75, 2.5] Hz\n",
    "        # equals [45, 150] beats per min\n",
    "        [b, a] = butter(1, [0.75 / fs * 2, 2.5 / fs * 2], btype='bandpass')\n",
    "        signal = scipy.signal.filtfilt(b, a, np.double(signal))\n",
    "    return signal\n",
    "\n",
    "def _detrend(input_signal, lambda_value):\n",
    "    \"\"\"Detrend PPG signal.\"\"\"\n",
    "    signal_length = input_signal.shape[0]\n",
    "    # observation matrix\n",
    "    H = np.identity(signal_length)\n",
    "    ones = np.ones(signal_length)\n",
    "    minus_twos = -2 * np.ones(signal_length)\n",
    "    diags_data = np.array([ones, minus_twos, ones])\n",
    "    diags_index = np.array([0, 1, 2])\n",
    "    D = spdiags(diags_data, diags_index,\n",
    "                (signal_length - 2), signal_length).toarray()\n",
    "    detrended_signal = np.dot(\n",
    "        (H - np.linalg.inv(H + (lambda_value ** 2) * np.dot(D.T, D))), input_signal)\n",
    "    return detrended_signal\n"
   ]
  },
  {
   "cell_type": "markdown",
   "id": "cac8bf60",
   "metadata": {},
   "source": [
    "### TODO: Variables To Set"
   ]
  },
  {
   "cell_type": "code",
   "execution_count": 3,
   "id": "59381e72",
   "metadata": {},
   "outputs": [],
   "source": [
    "data_out_paths = glob.glob(r\"../../runs/exp/*/saved_test_outputs/*.pickle\")\n",
    "trial_idx = 0\n",
    "chunk_size = 20*30 # size of chunk to visualize: -1 will plot the entire signal\n",
    "chunk_num = 0"
   ]
  },
  {
   "cell_type": "markdown",
   "id": "19330e88",
   "metadata": {},
   "source": [
    "### Read Data, and Extract Trials List"
   ]
  },
  {
   "cell_type": "code",
   "execution_count": 4,
   "id": "bfec0ca1",
   "metadata": {},
   "outputs": [
    {
     "name": "stdout",
     "output_type": "stream",
     "text": [
      "Num Trials 3\n"
     ]
    }
   ],
   "source": [
    "# Read in data and list subjects\n",
    "data_list = []\n",
    "for i in data_out_paths:\n",
    "    with open(i, 'rb') as f:\n",
    "        data_list.append(pickle.load(f))\n",
    "        \n",
    "    # List of all video trials\n",
    "    trial_list = list(data_list[0]['predictions'].keys())\n",
    "print('Num Trials', len(trial_list))"
   ]
  },
  {
   "cell_type": "code",
   "execution_count": 5,
   "id": "ee86751a",
   "metadata": {},
   "outputs": [
    {
     "ename": "NameError",
     "evalue": "name 'prediction' is not defined",
     "output_type": "error",
     "traceback": [
      "\u001b[1;31m---------------------------------------------------------------------------\u001b[0m",
      "\u001b[1;31mNameError\u001b[0m                                 Traceback (most recent call last)",
      "Cell \u001b[1;32mIn[5], line 22\u001b[0m\n\u001b[0;32m     19\u001b[0m     chunk_num \u001b[38;5;241m=\u001b[39m \u001b[38;5;241m0\u001b[39m\n\u001b[0;32m     21\u001b[0m \u001b[38;5;66;03m# Process label and prediction signals\u001b[39;00m\n\u001b[1;32m---> 22\u001b[0m prediction \u001b[38;5;241m=\u001b[39m _process_signal(\u001b[43mprediction\u001b[49m, fs, diff_flag\u001b[38;5;241m=\u001b[39mdiff_flag)\n\u001b[0;32m     23\u001b[0m label \u001b[38;5;241m=\u001b[39m _process_signal(label, fs, diff_flag\u001b[38;5;241m=\u001b[39mdiff_flag)\n\u001b[0;32m     24\u001b[0m start \u001b[38;5;241m=\u001b[39m (chunk_num)\u001b[38;5;241m*\u001b[39mchunk_size\n",
      "\u001b[1;31mNameError\u001b[0m: name 'prediction' is not defined"
     ]
    },
    {
     "data": {
      "text/plain": [
       "<Figure size 1000x500 with 0 Axes>"
      ]
     },
     "metadata": {},
     "output_type": "display_data"
    }
   ],
   "source": [
    "# Reform label and prediction vectors from multiple trial chunks\n",
    "import random\n",
    "from torch import randint\n",
    "\n",
    "\n",
    "predictions = [np.array(_reform_data_from_dict(data['predictions'][trial_list[trial_idx]])) for data in data_list]\n",
    "names = [ '_'.join(x.split('_')[:2]) for x in map(lambda x: x.split(os.sep)[-1],data_out_paths)]\n",
    "names.append('Labels')\n",
    "label = np.array(_reform_data_from_dict(data_list[0]['labels'][trial_list[trial_idx]]))\n",
    "plt.figure(figsize=(10,5))\n",
    "for data in data_list:\n",
    "    # Read in meta-data from pickle file\n",
    "    fs = data['fs'] # Video Frame Rate\n",
    "    label_type = data['label_type'] # PPG Signal Transformation: `DiffNormalized` or `Standardized`\n",
    "    diff_flag = (label_type == 'DiffNormalized')\n",
    "\n",
    "    if chunk_size == -1:\n",
    "        chunk_size = len(prediction)\n",
    "        chunk_num = 0\n",
    "\n",
    "    # Process label and prediction signals\n",
    "    prediction = _process_signal(prediction, fs, diff_flag=diff_flag)\n",
    "    label = _process_signal(label, fs, diff_flag=diff_flag)\n",
    "    start = (chunk_num)*chunk_size\n",
    "    stop = (chunk_num+1)*chunk_size\n",
    "    samples = stop - start\n",
    "    x_time = np.linspace(0, samples/fs, num=samples)\n",
    "    plt.plot(x_time, prediction[start:stop], color=(random.random(), random.random(), random.random()))\n",
    "#plt.plot(x_time, label[start:stop], color='black')\n",
    "plt.title('Trial: ' + trial_list[trial_idx])\n",
    "plt.legend(names)\n",
    "plt.xlabel('Time (s)')\n",
    "plt.show();\n"
   ]
  }
 ],
 "metadata": {
  "kernelspec": {
   "display_name": "rppg-toolbox",
   "language": "python",
   "name": "python3"
  },
  "language_info": {
   "codemirror_mode": {
    "name": "ipython",
    "version": 3
   },
   "file_extension": ".py",
   "mimetype": "text/x-python",
   "name": "python",
   "nbconvert_exporter": "python",
   "pygments_lexer": "ipython3",
   "version": "3.8.20"
  }
 },
 "nbformat": 4,
 "nbformat_minor": 5
}
