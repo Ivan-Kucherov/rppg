{
 "cells": [
  {
   "cell_type": "code",
   "execution_count": 1,
   "metadata": {},
   "outputs": [
    {
     "ename": "ModuleNotFoundError",
     "evalue": "No module named 'huggingface_hub'",
     "output_type": "error",
     "traceback": [
      "\u001b[1;31m---------------------------------------------------------------------------\u001b[0m",
      "\u001b[1;31mModuleNotFoundError\u001b[0m                       Traceback (most recent call last)",
      "Cell \u001b[1;32mIn[1], line 1\u001b[0m\n\u001b[1;32m----> 1\u001b[0m \u001b[38;5;28;01mfrom\u001b[39;00m \u001b[38;5;21;01mhuggingface_hub\u001b[39;00m \u001b[38;5;28;01mimport\u001b[39;00m hf_hub_download\n",
      "\u001b[1;31mModuleNotFoundError\u001b[0m: No module named 'huggingface_hub'"
     ]
    }
   ],
   "source": [
    "from huggingface_hub import hf_hub_download"
   ]
  },
  {
   "cell_type": "code",
   "execution_count": 5,
   "metadata": {},
   "outputs": [
    {
     "name": "stderr",
     "output_type": "stream",
     "text": [
      "Fetching 13204 files:   9%|▊         | 1142/13204 [05:50<2:18:00,  1.46it/s]Error while downloading from https://huggingface.co/datasets/kyegorov/mcd_rppg/resolve/5ccaab9abaa45b99783cdab1ee4c05011ea64a5a/ecg/9554_before.json: HTTPSConnectionPool(host='huggingface.co', port=443): Read timed out.\n",
      "Trying to resume download...\n",
      "Fetching 13204 files:  73%|███████▎  | 9672/13204 [23:34<7:30:26,  7.65s/it] Error while downloading from https://cdn-lfs-us-1.hf.co/repos/57/4b/574b5996cc0fc37491a94327a8f8ea8f4e430e33d5fc5b9bac83946cbc3db74c/79d1ecbeb722bf7bd8da8beeb83feb99dfa865f9e930a29a7ad96aed2be14b61?response-content-disposition=inline%3B+filename*%3DUTF-8%27%271234_FullHDwebcam_after.avi%3B+filename%3D%221234_FullHDwebcam_after.avi%22%3B&response-content-type=video%2Fx-msvideo&Expires=1729400090&Policy=eyJTdGF0ZW1lbnQiOlt7IkNvbmRpdGlvbiI6eyJEYXRlTGVzc1RoYW4iOnsiQVdTOkVwb2NoVGltZSI6MTcyOTQwMDA5MH19LCJSZXNvdXJjZSI6Imh0dHBzOi8vY2RuLWxmcy11cy0xLmhmLmNvL3JlcG9zLzU3LzRiLzU3NGI1OTk2Y2MwZmMzNzQ5MWE5NDMyN2E4ZjhlYThmNGU0MzBlMzNkNWZjNWI5YmFjODM5NDZjYmMzZGI3NGMvNzlkMWVjYmViNzIyYmY3YmQ4ZGE4YmVlYjgzZmViOTlkZmE4NjVmOWU5MzBhMjlhN2FkOTZhZWQyYmUxNGI2MT9yZXNwb25zZS1jb250ZW50LWRpc3Bvc2l0aW9uPSomcmVzcG9uc2UtY29udGVudC10eXBlPSoifV19&Signature=pweJCHDk%7E1xP2ebFQywtU8vsGVFVc0swpE4m5vAZQzquuz86xbZoCJ-KPJkvqizqdbb2b9yGIrogR-Zn9gYA2JpGqvSGOQQP0uf56O46onbXn8uVY1F8hXawXBwri2NIaI-3u7vmpZJ8IoxzVUBTi7vNah%7EJ-SurRIJOhCxgflJ36lYOLd0YyzMaNlC6pt6eSjYA1K8D7FaTRYs4wpMlY8MJz6pkiwY1IuzSVL-8Dn084LzHVkjwbd5JP5GFGN7jJBpSB7v9viY5W-9mLG0VYsKw0IK5jbmNsfH4F-L0vxazM3QSNM2CGgWNoWXR44Y3szeEO5UBrV0vHr3fa0IylA__&Key-Pair-Id=K24J24Z295AEI9: HTTPSConnectionPool(host='cdn-lfs-us-1.hf.co', port=443): Read timed out.\n",
      "Trying to resume download...\n",
      "Fetching 13204 files:  76%|███████▋  | 10084/13204 [52:28<4:01:59,  4.65s/it]Error while downloading from https://cdn-lfs-us-1.hf.co/repos/57/4b/574b5996cc0fc37491a94327a8f8ea8f4e430e33d5fc5b9bac83946cbc3db74c/c48252d954e62f78439b2e7b9daaab6fca59c24bfae35347c0d2a6771c5ed9ea?response-content-disposition=inline%3B+filename*%3DUTF-8%27%272285_USBVideo_after.avi%3B+filename%3D%222285_USBVideo_after.avi%22%3B&response-content-type=video%2Fx-msvideo&Expires=1729401776&Policy=eyJTdGF0ZW1lbnQiOlt7IkNvbmRpdGlvbiI6eyJEYXRlTGVzc1RoYW4iOnsiQVdTOkVwb2NoVGltZSI6MTcyOTQwMTc3Nn19LCJSZXNvdXJjZSI6Imh0dHBzOi8vY2RuLWxmcy11cy0xLmhmLmNvL3JlcG9zLzU3LzRiLzU3NGI1OTk2Y2MwZmMzNzQ5MWE5NDMyN2E4ZjhlYThmNGU0MzBlMzNkNWZjNWI5YmFjODM5NDZjYmMzZGI3NGMvYzQ4MjUyZDk1NGU2MmY3ODQzOWIyZTdiOWRhYWFiNmZjYTU5YzI0YmZhZTM1MzQ3YzBkMmE2NzcxYzVlZDllYT9yZXNwb25zZS1jb250ZW50LWRpc3Bvc2l0aW9uPSomcmVzcG9uc2UtY29udGVudC10eXBlPSoifV19&Signature=B6KG9OXy2OQKR9FHHLLxudA7%7EqSkEB0I6eqsjs1jETkEf6HEE9zjw8ubqbgPT0TKWn9ihYhFPeJmKGN1ZDbkTQcKb2nJ6chsKmHmh3kfjAHahCc-Pis8sD7hAvMuy%7EJG%7EQb2TdgGAbWf1FndGQSMuz0Oa37HUrhsW43hIANioFBSKlqnynUP04y0VU1T-vypEpX75yIOvJzpV2XMzG8fqkXtDbySbVu3-PFeeWlYvimXP60GZJuBzNmaWZYDXhOBzlexe5J9-WJ2%7EljDMr462oeKZACq6jdi1P7VRVnSNs8Yk3vFksqvTz0ddgNk-jsNaHLJcoGqcnPn5Ngzfd8iyQ__&Key-Pair-Id=K24J24Z295AEI9: HTTPSConnectionPool(host='cdn-lfs-us-1.hf.co', port=443): Read timed out.\n",
      "Trying to resume download...\n",
      "Fetching 13204 files:  81%|████████  | 10661/13204 [1:33:41<2:59:55,  4.25s/it] Error while downloading from https://cdn-lfs-us-1.hf.co/repos/57/4b/574b5996cc0fc37491a94327a8f8ea8f4e430e33d5fc5b9bac83946cbc3db74c/dc2072b4adc9607eec8a42d0b072761c66953df649e1955a69a780176c230ea7?response-content-disposition=inline%3B+filename*%3DUTF-8%27%273593_USBVideo_after.avi%3B+filename%3D%223593_USBVideo_after.avi%22%3B&response-content-type=video%2Fx-msvideo&Expires=1729404271&Policy=eyJTdGF0ZW1lbnQiOlt7IkNvbmRpdGlvbiI6eyJEYXRlTGVzc1RoYW4iOnsiQVdTOkVwb2NoVGltZSI6MTcyOTQwNDI3MX19LCJSZXNvdXJjZSI6Imh0dHBzOi8vY2RuLWxmcy11cy0xLmhmLmNvL3JlcG9zLzU3LzRiLzU3NGI1OTk2Y2MwZmMzNzQ5MWE5NDMyN2E4ZjhlYThmNGU0MzBlMzNkNWZjNWI5YmFjODM5NDZjYmMzZGI3NGMvZGMyMDcyYjRhZGM5NjA3ZWVjOGE0MmQwYjA3Mjc2MWM2Njk1M2RmNjQ5ZTE5NTVhNjlhNzgwMTc2YzIzMGVhNz9yZXNwb25zZS1jb250ZW50LWRpc3Bvc2l0aW9uPSomcmVzcG9uc2UtY29udGVudC10eXBlPSoifV19&Signature=hC3h1Z6ofCztVWW4btsD4GYGbG59B9o7KQP16tIWDsFeLTDcdO3y5aNqmy4iZ39hIgS4KfTguUmF-%7EY3leV96xiB03yiJct8xCMeCjwg3xDymRSkUcFeNNIg4iePu-DY3FB%7EviR4JsT5Onrvf6ugiUMB2vJ8gfq%7E6z7Nyisnuxm2uo0M%7EI-a1MvzUTeeRmtlhntbmaO-V9RG20OKS88RL4QcDmRZk3tJhrc-hQPvqo2kpWmVPsByCv5y5NgrNuW7bY%7EntrX4-wTu0H7LMWFbxN5L0-BYuxZdI6ttrr98uYQ8CynAc6EwyNM7IOVQpHmjhCCN4GOcILr%7EvG-0OHB0sQ__&Key-Pair-Id=K24J24Z295AEI9: HTTPSConnectionPool(host='cdn-lfs-us-1.hf.co', port=443): Read timed out.\n",
      "Trying to resume download...\n",
      "Fetching 13204 files:  81%|████████  | 10671/13204 [1:34:20<2:47:39,  3.97s/it]Error while downloading from https://cdn-lfs-us-1.hf.co/repos/57/4b/574b5996cc0fc37491a94327a8f8ea8f4e430e33d5fc5b9bac83946cbc3db74c/40a33cbd89350bea7e9910236a6f6bbef06c439dcf55090082b66d37f0a5b7ec?response-content-disposition=inline%3B+filename*%3DUTF-8%27%273636_FullHDwebcam_after.avi%3B+filename%3D%223636_FullHDwebcam_after.avi%22%3B&response-content-type=video%2Fx-msvideo&Expires=1729404332&Policy=eyJTdGF0ZW1lbnQiOlt7IkNvbmRpdGlvbiI6eyJEYXRlTGVzc1RoYW4iOnsiQVdTOkVwb2NoVGltZSI6MTcyOTQwNDMzMn19LCJSZXNvdXJjZSI6Imh0dHBzOi8vY2RuLWxmcy11cy0xLmhmLmNvL3JlcG9zLzU3LzRiLzU3NGI1OTk2Y2MwZmMzNzQ5MWE5NDMyN2E4ZjhlYThmNGU0MzBlMzNkNWZjNWI5YmFjODM5NDZjYmMzZGI3NGMvNDBhMzNjYmQ4OTM1MGJlYTdlOTkxMDIzNmE2ZjZiYmVmMDZjNDM5ZGNmNTUwOTAwODJiNjZkMzdmMGE1YjdlYz9yZXNwb25zZS1jb250ZW50LWRpc3Bvc2l0aW9uPSomcmVzcG9uc2UtY29udGVudC10eXBlPSoifV19&Signature=Bv1f37dzknO1JPV-TWHKNO0NNVqygbXxthniTmluiznlTF3%7Ed89VQeo9aXT3NsLRjOsnn7NIPrwsy-UNhWuZSIyD0DoeAGM%7EBvqyw2JMTD27tGrB8K5B3tEv1Mbl9950svTfn-QgJ-tZ34pQ-QC%7EP2cglFjyMSJv%7EKKjgi5Gvp7xwkrDAxGWC2Fki22FHJC%7E18Ct9sIErZ9nfTdNOB7YX4zyCUeh4cb3r6zw4CituQaSVkkA3E1uLOwKlFlRLfDplG7bGLr3Cdiz5I6UcCgXmnXrlJRJr7myc0Ci2jueqHNFe59P4hhV5jef565gUckBuIlW%7EMHrx1jXuzrhJg2Chg__&Key-Pair-Id=K24J24Z295AEI9: HTTPSConnectionPool(host='cdn-lfs-us-1.hf.co', port=443): Read timed out.\n",
      "Trying to resume download...\n",
      "Fetching 13204 files:  82%|████████▏ | 10791/13204 [1:42:26<1:53:35,  2.82s/it]Error while downloading from https://cdn-lfs-us-1.hf.co/repos/57/4b/574b5996cc0fc37491a94327a8f8ea8f4e430e33d5fc5b9bac83946cbc3db74c/9754ad279f7ec8932c60138a849e4c497ed9f8d032cbe85638b37e3b30e54a38?response-content-disposition=inline%3B+filename*%3DUTF-8%27%273889_IriunWebcam_before.avi%3B+filename%3D%223889_IriunWebcam_before.avi%22%3B&response-content-type=video%2Fx-msvideo&Expires=1729404827&Policy=eyJTdGF0ZW1lbnQiOlt7IkNvbmRpdGlvbiI6eyJEYXRlTGVzc1RoYW4iOnsiQVdTOkVwb2NoVGltZSI6MTcyOTQwNDgyN319LCJSZXNvdXJjZSI6Imh0dHBzOi8vY2RuLWxmcy11cy0xLmhmLmNvL3JlcG9zLzU3LzRiLzU3NGI1OTk2Y2MwZmMzNzQ5MWE5NDMyN2E4ZjhlYThmNGU0MzBlMzNkNWZjNWI5YmFjODM5NDZjYmMzZGI3NGMvOTc1NGFkMjc5ZjdlYzg5MzJjNjAxMzhhODQ5ZTRjNDk3ZWQ5ZjhkMDMyY2JlODU2MzhiMzdlM2IzMGU1NGEzOD9yZXNwb25zZS1jb250ZW50LWRpc3Bvc2l0aW9uPSomcmVzcG9uc2UtY29udGVudC10eXBlPSoifV19&Signature=RbBeFiMoymQMFedFFse2KI5vPYoH174E-rvXOBLNaDpPNkA76zaL80gD32ODFdcWKNbzRgINf4jw99pSoACOigIGNjkzLYxprQwniHAgkOQpzFiH9MixnWbXL4YdC4sWg2iLrlFO8Fe-9jjeVLAxJSg6z0eBnzWG7KSpnBuHIbKPm35WKF9Buhe7T9ITVZui6uviOmT68f0spRJwVNddhtQkyNO-p0T97naw5iKlfpDn6%7E%7Ef8NfCpPFai0seIuiRpOkKpFO7XmTx99s0syYWuLsJbNX5TkFOY1PPcjFSqkI87wgCYZlriF6Q-8Yy7OM-hS3e8ucRQolnNXx7Vln8Tw__&Key-Pair-Id=K24J24Z295AEI9: HTTPSConnectionPool(host='cdn-lfs-us-1.hf.co', port=443): Read timed out.\n",
      "Trying to resume download...\n",
      "Error while downloading from https://cdn-lfs-us-1.hf.co/repos/57/4b/574b5996cc0fc37491a94327a8f8ea8f4e430e33d5fc5b9bac83946cbc3db74c/c088ceaea8309831f19f7d9c8f8666561955a08a0c30e943175493322da99caa?response-content-disposition=inline%3B+filename*%3DUTF-8%27%273889_FullHDwebcam_after.avi%3B+filename%3D%223889_FullHDwebcam_after.avi%22%3B&response-content-type=video%2Fx-msvideo&Expires=1729404819&Policy=eyJTdGF0ZW1lbnQiOlt7IkNvbmRpdGlvbiI6eyJEYXRlTGVzc1RoYW4iOnsiQVdTOkVwb2NoVGltZSI6MTcyOTQwNDgxOX19LCJSZXNvdXJjZSI6Imh0dHBzOi8vY2RuLWxmcy11cy0xLmhmLmNvL3JlcG9zLzU3LzRiLzU3NGI1OTk2Y2MwZmMzNzQ5MWE5NDMyN2E4ZjhlYThmNGU0MzBlMzNkNWZjNWI5YmFjODM5NDZjYmMzZGI3NGMvYzA4OGNlYWVhODMwOTgzMWYxOWY3ZDljOGY4NjY2NTYxOTU1YTA4YTBjMzBlOTQzMTc1NDkzMzIyZGE5OWNhYT9yZXNwb25zZS1jb250ZW50LWRpc3Bvc2l0aW9uPSomcmVzcG9uc2UtY29udGVudC10eXBlPSoifV19&Signature=PIeAtxYpfcovRFNj3UuTHKH6Fhxx5paXBB6cSmImUY6kulRt99-BNndnv8Z7JaADn7jTTejUSaptg9CYe9LZb5BPuhwQQZJbzAnrnvH9TlCzT6z6i6CDhOoyatr02Q%7EqVxJfeTw6JbcR4T2QEdCWXz-BGO0cVlFvQgMdLyxCNnirMkkaa2eFa5EaBTTIQuaSRZ3YTIMqSCkd59JLHA8aC61%7EYnURTBxuUUuEqjNX3kC87jfDgjyzlEbd0WTnHzen7EVeu87HQHTaTnTijl6BIblspTVANd%7E3x4dZSVqh7Qni-Judu1TLbWGnlFPs17epdBvxB0UEoaGT3L0bUQyLFw__&Key-Pair-Id=K24J24Z295AEI9: The operation did not complete (read) (_ssl.c:2570)\n",
      "Trying to resume download...\n",
      "Error while downloading from https://cdn-lfs-us-1.hf.co/repos/57/4b/574b5996cc0fc37491a94327a8f8ea8f4e430e33d5fc5b9bac83946cbc3db74c/37c2c438845fafe8a645d448a3c0da8607c7d9a2a25654c33da72cb59f5a07cd?response-content-disposition=inline%3B+filename*%3DUTF-8%27%273833_FullHDwebcam_before.avi%3B+filename%3D%223833_FullHDwebcam_before.avi%22%3B&response-content-type=video%2Fx-msvideo&Expires=1729404796&Policy=eyJTdGF0ZW1lbnQiOlt7IkNvbmRpdGlvbiI6eyJEYXRlTGVzc1RoYW4iOnsiQVdTOkVwb2NoVGltZSI6MTcyOTQwNDc5Nn19LCJSZXNvdXJjZSI6Imh0dHBzOi8vY2RuLWxmcy11cy0xLmhmLmNvL3JlcG9zLzU3LzRiLzU3NGI1OTk2Y2MwZmMzNzQ5MWE5NDMyN2E4ZjhlYThmNGU0MzBlMzNkNWZjNWI5YmFjODM5NDZjYmMzZGI3NGMvMzdjMmM0Mzg4NDVmYWZlOGE2NDVkNDQ4YTNjMGRhODYwN2M3ZDlhMmEyNTY1NGMzM2RhNzJjYjU5ZjVhMDdjZD9yZXNwb25zZS1jb250ZW50LWRpc3Bvc2l0aW9uPSomcmVzcG9uc2UtY29udGVudC10eXBlPSoifV19&Signature=Asbn0H3YgVWa60Ovy2wJzbFj8-0jfg76LqmQjZHzHYmTFw1QxEDnjxSZ8IAb9lHRaaPqW5kJjO31h-YRTRPyP8XDS7-Err86BUKGCvZBUF5z8vkvewxXGps2dpANzTvEKs6y0YNv29tZAkUtpkvsDq5E5iT%7EeeGKSlyxBvCWZle4iivcQ7gvSfRuDkX5vtQpPwryh0QPh7H4YLGjaleZwS5gCnZACO8mYNBDWk9zBzOkBcmTTLWfv27%7EGZudZEM%7Ehus4s1L8DbGiVlDgF8NCYBCOnd2rTtwhE0CtJNJNFUwwlu4gMwU5S5ThIdy9mC2zNxNFBOFcp1F2kj7kWvkQsQ__&Key-Pair-Id=K24J24Z295AEI9: The operation did not complete (read) (_ssl.c:2570)\n",
      "Trying to resume download...\n",
      "Error while downloading from https://cdn-lfs-us-1.hf.co/repos/57/4b/574b5996cc0fc37491a94327a8f8ea8f4e430e33d5fc5b9bac83946cbc3db74c/7c08b77784b697f3794454f935bc3b9595dc6785830fa45220c549bd4d668f46?response-content-disposition=inline%3B+filename*%3DUTF-8%27%273889_FullHDwebcam_before.avi%3B+filename%3D%223889_FullHDwebcam_before.avi%22%3B&response-content-type=video%2Fx-msvideo&Expires=1729404819&Policy=eyJTdGF0ZW1lbnQiOlt7IkNvbmRpdGlvbiI6eyJEYXRlTGVzc1RoYW4iOnsiQVdTOkVwb2NoVGltZSI6MTcyOTQwNDgxOX19LCJSZXNvdXJjZSI6Imh0dHBzOi8vY2RuLWxmcy11cy0xLmhmLmNvL3JlcG9zLzU3LzRiLzU3NGI1OTk2Y2MwZmMzNzQ5MWE5NDMyN2E4ZjhlYThmNGU0MzBlMzNkNWZjNWI5YmFjODM5NDZjYmMzZGI3NGMvN2MwOGI3Nzc4NGI2OTdmMzc5NDQ1NGY5MzViYzNiOTU5NWRjNjc4NTgzMGZhNDUyMjBjNTQ5YmQ0ZDY2OGY0Nj9yZXNwb25zZS1jb250ZW50LWRpc3Bvc2l0aW9uPSomcmVzcG9uc2UtY29udGVudC10eXBlPSoifV19&Signature=oV4MAEjUeLqwEUP7Yfo-MNktnsg1G0BDrWCQ8LtQ4ZPP86KRZS7hevDLuF916kojYu0h21s2z0dsjquAbb44-w7JCOVigfb9nlWL5FwfQ1slLxLvBN-mVfjcm7Cia8uwpY1wQ4AyykJoggq0vnMgeDNo1RU3-GF7f8mPs4qSD0pTPenkud%7E-GVl1nIrCe-7yeF-zfKinxtzaPs%7EaoXfMbR-8b8DCnBc5LOQveNvHZurD%7EFGkFx0XcWuQy5ajdfi6pwYcMBhyadKE8m%7Ew%7E3dMmsuNEHAEGUdZ1uyN8mSUzR0TmLiRpKe9wKWPTwuxjFmbM8Ime3daJBVYBW0fMBsERQ__&Key-Pair-Id=K24J24Z295AEI9: HTTPSConnectionPool(host='cdn-lfs-us-1.hf.co', port=443): Read timed out.\n",
      "Trying to resume download...\n",
      "Error while downloading from https://cdn-lfs-us-1.hf.co/repos/57/4b/574b5996cc0fc37491a94327a8f8ea8f4e430e33d5fc5b9bac83946cbc3db74c/d8d8dcfd0190bdf2f2e5041ba1bdd5d9fe2042bb2198b60cfec76aa8b229874a?response-content-disposition=inline%3B+filename*%3DUTF-8%27%273889_IriunWebcam_after.avi%3B+filename%3D%223889_IriunWebcam_after.avi%22%3B&response-content-type=video%2Fx-msvideo&Expires=1729404820&Policy=eyJTdGF0ZW1lbnQiOlt7IkNvbmRpdGlvbiI6eyJEYXRlTGVzc1RoYW4iOnsiQVdTOkVwb2NoVGltZSI6MTcyOTQwNDgyMH19LCJSZXNvdXJjZSI6Imh0dHBzOi8vY2RuLWxmcy11cy0xLmhmLmNvL3JlcG9zLzU3LzRiLzU3NGI1OTk2Y2MwZmMzNzQ5MWE5NDMyN2E4ZjhlYThmNGU0MzBlMzNkNWZjNWI5YmFjODM5NDZjYmMzZGI3NGMvZDhkOGRjZmQwMTkwYmRmMmYyZTUwNDFiYTFiZGQ1ZDlmZTIwNDJiYjIxOThiNjBjZmVjNzZhYThiMjI5ODc0YT9yZXNwb25zZS1jb250ZW50LWRpc3Bvc2l0aW9uPSomcmVzcG9uc2UtY29udGVudC10eXBlPSoifV19&Signature=iWLJYFSz7aB%7EgwmnZhlfTXCjyGnkdKJ27L8mpSUt8hwQz0kdNc%7EbknnJimOWBc%7EYX%7EIwwR7Rm7gjjGGBzGlrGjA7CN0X8ZPMesQjUUW7xgqKtjNbvAZJ42vraZV%7Evi0tIXMfsIYw%7ETYBwrEj18vHQsaaVC3ty-N6wpmgBnUaM%7EJzU5MIAI%7EBw2JXUMpZ9NWwhBSoF%7E8hRFTrUV7TsgoJkObc3v3i5jmCxhzgulnudaQumWFERi0k1wUv5Jc7rPA37EtOahXKxNhwkGPZQ5zcJfjhH2VDcqpRP9qerM6m584e-XftETTodsC-9Ze-NxV4mCjdRQah08CN4p1FfjQBaQ__&Key-Pair-Id=K24J24Z295AEI9: HTTPSConnectionPool(host='cdn-lfs-us-1.hf.co', port=443): Read timed out.\n",
      "Trying to resume download...\n",
      "Error while downloading from https://cdn-lfs-us-1.hf.co/repos/57/4b/574b5996cc0fc37491a94327a8f8ea8f4e430e33d5fc5b9bac83946cbc3db74c/ccc310348d938b274460e60f24177501c5e5ec960ebcec44c229d02de3681538?response-content-disposition=inline%3B+filename*%3DUTF-8%27%273833_FullHDwebcam_after.avi%3B+filename%3D%223833_FullHDwebcam_after.avi%22%3B&response-content-type=video%2Fx-msvideo&Expires=1729404796&Policy=eyJTdGF0ZW1lbnQiOlt7IkNvbmRpdGlvbiI6eyJEYXRlTGVzc1RoYW4iOnsiQVdTOkVwb2NoVGltZSI6MTcyOTQwNDc5Nn19LCJSZXNvdXJjZSI6Imh0dHBzOi8vY2RuLWxmcy11cy0xLmhmLmNvL3JlcG9zLzU3LzRiLzU3NGI1OTk2Y2MwZmMzNzQ5MWE5NDMyN2E4ZjhlYThmNGU0MzBlMzNkNWZjNWI5YmFjODM5NDZjYmMzZGI3NGMvY2NjMzEwMzQ4ZDkzOGIyNzQ0NjBlNjBmMjQxNzc1MDFjNWU1ZWM5NjBlYmNlYzQ0YzIyOWQwMmRlMzY4MTUzOD9yZXNwb25zZS1jb250ZW50LWRpc3Bvc2l0aW9uPSomcmVzcG9uc2UtY29udGVudC10eXBlPSoifV19&Signature=puTjvrx7I1dbEsIbKWNWNZ6Ak30dWNtj9905j9Ql6YCWbuEfgUB6Q7Po%7ECfn5k1pdlxiMXD9jnaIwKGVtCao48HwxmzctBwA3T9mRqTEH%7EZnzcWgOk-DgBk18aV4j9E68GbB4Bse3fEyXE9VBO1GP-vZgj0FkxJ9zlgvjv3kVCHBxTQ-T16mMWTyPAmBbRUUDMx8S1BLTNtb3lQ7ZR2ntChrARDy23F9ruVo3dRBEn1-DgFxIi0s8q2CoyWEjChSLS%7EfBkxCowjjoJmiW-6Hi4HxM8eKKFX0QnmDU7FaE8KAi5Z78XY1BwSlfZLP7U467euIurzFVGNyxTXTH0xfqA__&Key-Pair-Id=K24J24Z295AEI9: HTTPSConnectionPool(host='cdn-lfs-us-1.hf.co', port=443): Read timed out.\n",
      "Trying to resume download...\n",
      "Fetching 13204 files:  82%|████████▏ | 10823/13204 [1:45:30<2:41:17,  4.06s/it]Error while downloading from https://cdn-lfs-us-1.hf.co/repos/57/4b/574b5996cc0fc37491a94327a8f8ea8f4e430e33d5fc5b9bac83946cbc3db74c/cf21419dae2ce946f0bd526dcba7499dac48397e8ce2d3b00bc2457a321f3b5a?response-content-disposition=inline%3B+filename*%3DUTF-8%27%274074_USBVideo_before.avi%3B+filename%3D%224074_USBVideo_before.avi%22%3B&response-content-type=video%2Fx-msvideo&Expires=1729405067&Policy=eyJTdGF0ZW1lbnQiOlt7IkNvbmRpdGlvbiI6eyJEYXRlTGVzc1RoYW4iOnsiQVdTOkVwb2NoVGltZSI6MTcyOTQwNTA2N319LCJSZXNvdXJjZSI6Imh0dHBzOi8vY2RuLWxmcy11cy0xLmhmLmNvL3JlcG9zLzU3LzRiLzU3NGI1OTk2Y2MwZmMzNzQ5MWE5NDMyN2E4ZjhlYThmNGU0MzBlMzNkNWZjNWI5YmFjODM5NDZjYmMzZGI3NGMvY2YyMTQxOWRhZTJjZTk0NmYwYmQ1MjZkY2JhNzQ5OWRhYzQ4Mzk3ZThjZTJkM2IwMGJjMjQ1N2EzMjFmM2I1YT9yZXNwb25zZS1jb250ZW50LWRpc3Bvc2l0aW9uPSomcmVzcG9uc2UtY29udGVudC10eXBlPSoifV19&Signature=lOQdXuwPYkTLOfCLwAFPc7RMZgj%7E2HFZPHBRHGD3Y4H5-b%7EnJPVdroltL4IdqQgRereMfKVp3%7ErkhAYzo-S8jUt7np4V6xUJoTc7ouxYaHdqeksVrHDEyYQV9oKVF6HmZLihpiFO7yDrw0gb-jozbclhlHuz6YWORLsPN1kwLE5eT%7EjC73m21vU4Rf%7EKQy3XZ9SrKGSwVyZaIaq2vhClusWZTd4EANjz5vnM0i2rUgfaY9C4aSV8E23T4c6VzDNDAP2x4X2L3ZY5pZA4q74qr3VnIcIPAK9eSzWKK8E7wKq8ykk1yju3zivROlldD2EZIiLBvKkt-aKXDriIcTsTuQ__&Key-Pair-Id=K24J24Z295AEI9: HTTPSConnectionPool(host='cdn-lfs-us-1.hf.co', port=443): Read timed out.\n",
      "Trying to resume download...\n",
      "Fetching 13204 files:  85%|████████▍ | 11207/13204 [2:14:32<3:39:53,  6.61s/it]Error while downloading from https://cdn-lfs-us-1.hf.co/repos/57/4b/574b5996cc0fc37491a94327a8f8ea8f4e430e33d5fc5b9bac83946cbc3db74c/bd3d3ee478f4d74fde2e9326248b500bae6dee6601872fe5dd5bcd61453d4c49?response-content-disposition=inline%3B+filename*%3DUTF-8%27%274936_USBVideo_after.avi%3B+filename%3D%224936_USBVideo_after.avi%22%3B&response-content-type=video%2Fx-msvideo&Expires=1729406734&Policy=eyJTdGF0ZW1lbnQiOlt7IkNvbmRpdGlvbiI6eyJEYXRlTGVzc1RoYW4iOnsiQVdTOkVwb2NoVGltZSI6MTcyOTQwNjczNH19LCJSZXNvdXJjZSI6Imh0dHBzOi8vY2RuLWxmcy11cy0xLmhmLmNvL3JlcG9zLzU3LzRiLzU3NGI1OTk2Y2MwZmMzNzQ5MWE5NDMyN2E4ZjhlYThmNGU0MzBlMzNkNWZjNWI5YmFjODM5NDZjYmMzZGI3NGMvYmQzZDNlZTQ3OGY0ZDc0ZmRlMmU5MzI2MjQ4YjUwMGJhZTZkZWU2NjAxODcyZmU1ZGQ1YmNkNjE0NTNkNGM0OT9yZXNwb25zZS1jb250ZW50LWRpc3Bvc2l0aW9uPSomcmVzcG9uc2UtY29udGVudC10eXBlPSoifV19&Signature=dDFucG2sB5VpmFMmviNDtLK0ThGkk4VB%7EFggfhk%7EDIGLvCHe9gZkUPTwWUIJlut7JwX%7EwrFkNgQehkoi-FB59xVJeQS2Ym4BJs2MzK9q9SKo9YVmoN%7EbPEoDJnVxT0wool3Oacn50W661-OjYnzES5iryq9aRpuRttuLxhTI5JGS6jhu8HE4sfA37AFPKu7nULnbKSbb6n5kSpgcUi-r5jUBg4sPSLe%7EhABfOUf0QxGfHfCT4zhWJTluKyKQlLenTNTjiX1wF1A6OLQ3-NhMAkRelKmD1S63qLEhaRh38bSMx4tLtxbT8b804N%7ECrXpc9mrM4UUbXV9NpT6VE7zxzg__&Key-Pair-Id=K24J24Z295AEI9: HTTPSConnectionPool(host='cdn-lfs-us-1.hf.co', port=443): Read timed out.\n",
      "Trying to resume download...\n",
      "Fetching 13204 files:  88%|████████▊ | 11622/13204 [2:48:09<3:50:02,  8.72s/it]Error while downloading from https://cdn-lfs-us-1.hf.co/repos/57/4b/574b5996cc0fc37491a94327a8f8ea8f4e430e33d5fc5b9bac83946cbc3db74c/2d5ae07dd67e6439a6c313d94aae4751b12372b2ad82109385612412309b86ef?response-content-disposition=inline%3B+filename*%3DUTF-8%27%275909_USBVideo_after.avi%3B+filename%3D%225909_USBVideo_after.avi%22%3B&response-content-type=video%2Fx-msvideo&Expires=1729408764&Policy=eyJTdGF0ZW1lbnQiOlt7IkNvbmRpdGlvbiI6eyJEYXRlTGVzc1RoYW4iOnsiQVdTOkVwb2NoVGltZSI6MTcyOTQwODc2NH19LCJSZXNvdXJjZSI6Imh0dHBzOi8vY2RuLWxmcy11cy0xLmhmLmNvL3JlcG9zLzU3LzRiLzU3NGI1OTk2Y2MwZmMzNzQ5MWE5NDMyN2E4ZjhlYThmNGU0MzBlMzNkNWZjNWI5YmFjODM5NDZjYmMzZGI3NGMvMmQ1YWUwN2RkNjdlNjQzOWE2YzMxM2Q5NGFhZTQ3NTFiMTIzNzJiMmFkODIxMDkzODU2MTI0MTIzMDliODZlZj9yZXNwb25zZS1jb250ZW50LWRpc3Bvc2l0aW9uPSomcmVzcG9uc2UtY29udGVudC10eXBlPSoifV19&Signature=MnjCcQzwzIg86Ua-LbDXlD8eRYhKnH398KCDZ9zv%7ELsEgDZF0uS57TPnJKXlbSBPKqgLg2FvDVt2gmwJbdZ5TuGHU4fMuO7WrKpzX1HR1v14D03lMuAvQLbm9qf6f31jrFPwVe4oHApAJdDu%7E8yjREVgr2N%7ET%7E9YotdGWNx6yMWyV6C4rOx69mrBW4WAywiPcWz9SJtVOrrW9buIBW2oPZBEzgcqGmXwZ0cXGZd8PIfatWMeD%7EMM6s-RaSpa7AMEJMslKRCv-K0NR0FVp7EOVVR6SvqT2NKsY9kBslt20n%7E4HWb24V0euCrBPau88eJJWtFArdZ8eo4uOHlg5TwFvw__&Key-Pair-Id=K24J24Z295AEI9: HTTPSConnectionPool(host='cdn-lfs-us-1.hf.co', port=443): Read timed out.\n",
      "Trying to resume download...\n",
      "Error while downloading from https://cdn-lfs-us-1.hf.co/repos/57/4b/574b5996cc0fc37491a94327a8f8ea8f4e430e33d5fc5b9bac83946cbc3db74c/d46674ccfd2c4e7ff480daf03fac1e393dc27e707ed47694df88295d4a71e5fa?response-content-disposition=inline%3B+filename*%3DUTF-8%27%275928_USBVideo_after.avi%3B+filename%3D%225928_USBVideo_after.avi%22%3B&response-content-type=video%2Fx-msvideo&Expires=1729408828&Policy=eyJTdGF0ZW1lbnQiOlt7IkNvbmRpdGlvbiI6eyJEYXRlTGVzc1RoYW4iOnsiQVdTOkVwb2NoVGltZSI6MTcyOTQwODgyOH19LCJSZXNvdXJjZSI6Imh0dHBzOi8vY2RuLWxmcy11cy0xLmhmLmNvL3JlcG9zLzU3LzRiLzU3NGI1OTk2Y2MwZmMzNzQ5MWE5NDMyN2E4ZjhlYThmNGU0MzBlMzNkNWZjNWI5YmFjODM5NDZjYmMzZGI3NGMvZDQ2Njc0Y2NmZDJjNGU3ZmY0ODBkYWYwM2ZhYzFlMzkzZGMyN2U3MDdlZDQ3Njk0ZGY4ODI5NWQ0YTcxZTVmYT9yZXNwb25zZS1jb250ZW50LWRpc3Bvc2l0aW9uPSomcmVzcG9uc2UtY29udGVudC10eXBlPSoifV19&Signature=aG1Kjeyc5y%7EEr%7EoXvk4yfxh0rbLkf2KPX3A7uzUNly-vpWuigxmjwKgO1yXZqPkGRB7U0v5zdwXD6aoGvygXown9-fGOw3l4lwvR6CON3qZdnpUD8fp4p-ceAbkvD7mmJJbHPhD9FgvoadDt5tssA-vOp3J1Q73nJnDmxTXTtmIlVlnO3dXovezd42m2SMp3Obmh5Hty20bcqOMjNJa-N2MLfA7TIiU1cksCl8gcoS4QTWb2iGDSzhQVkF2-IFMG4QJO5lK50scvlifkHeBpI4gPndpxpHDmmaAzfzdI9kdo1wBTVYUEjv9kwMjhQL9KTU3BbnE9VvaOB4Z%7EFgOjRg__&Key-Pair-Id=K24J24Z295AEI9: HTTPSConnectionPool(host='cdn-lfs-us-1.hf.co', port=443): Read timed out.\n",
      "Trying to resume download...\n",
      "Fetching 13204 files:  89%|████████▊ | 11702/13204 [2:53:29<1:14:03,  2.96s/it]Error while downloading from https://cdn-lfs-us-1.hf.co/repos/57/4b/574b5996cc0fc37491a94327a8f8ea8f4e430e33d5fc5b9bac83946cbc3db74c/90c9093ba5671f7c82a04cfd979a8f1286697040d84def59bd9b19b817a9a0c6?response-content-disposition=inline%3B+filename*%3DUTF-8%27%276031_IriunWebcam_before.avi%3B+filename%3D%226031_IriunWebcam_before.avi%22%3B&response-content-type=video%2Fx-msvideo&Expires=1729409076&Policy=eyJTdGF0ZW1lbnQiOlt7IkNvbmRpdGlvbiI6eyJEYXRlTGVzc1RoYW4iOnsiQVdTOkVwb2NoVGltZSI6MTcyOTQwOTA3Nn19LCJSZXNvdXJjZSI6Imh0dHBzOi8vY2RuLWxmcy11cy0xLmhmLmNvL3JlcG9zLzU3LzRiLzU3NGI1OTk2Y2MwZmMzNzQ5MWE5NDMyN2E4ZjhlYThmNGU0MzBlMzNkNWZjNWI5YmFjODM5NDZjYmMzZGI3NGMvOTBjOTA5M2JhNTY3MWY3YzgyYTA0Y2ZkOTc5YThmMTI4NjY5NzA0MGQ4NGRlZjU5YmQ5YjE5YjgxN2E5YTBjNj9yZXNwb25zZS1jb250ZW50LWRpc3Bvc2l0aW9uPSomcmVzcG9uc2UtY29udGVudC10eXBlPSoifV19&Signature=hpa-oTTAMpDcI7M7H78BefhVLd6nF0i-XoSPerNPrRJ7Yzmrl8va68yBP3y4HgqVKCLk3hY76Mr4MpllDWtf9Qj%7EqSd2GI0o3n03TuAzdSGXBjkDW8NSGS54vWu0dD7BfkbhZk1%7EHItQOUy5H6E8Voo28yyUoXznJQeGdMxxbC4Z8Rxcvck4QfoSluKt2SlOCU3GDP6WKETdgzMtAZksijqlRBhBwY5jG5xIYUzYYlBUUB1LtUZubC2YjiQrH9%7EGLOkPokGH1h-m7vpn9Nu32Xz3TmQSHCYwyk2Zhp9g%7ETHbaAfNX-ib9y9RsBcr9exKO7aLe613bI3dFNbAq0VoaA__&Key-Pair-Id=K24J24Z295AEI9: HTTPSConnectionPool(host='cdn-lfs-us-1.hf.co', port=443): Read timed out.\n",
      "Trying to resume download...\n",
      "Error while downloading from https://cdn-lfs-us-1.hf.co/repos/57/4b/574b5996cc0fc37491a94327a8f8ea8f4e430e33d5fc5b9bac83946cbc3db74c/abb8da3ea700fea106eb56b2fb8276d87abab30bcacd9b986446dc942dbaaeb0?response-content-disposition=inline%3B+filename*%3DUTF-8%27%276028_USBVideo_after.avi%3B+filename%3D%226028_USBVideo_after.avi%22%3B&response-content-type=video%2Fx-msvideo&Expires=1729409052&Policy=eyJTdGF0ZW1lbnQiOlt7IkNvbmRpdGlvbiI6eyJEYXRlTGVzc1RoYW4iOnsiQVdTOkVwb2NoVGltZSI6MTcyOTQwOTA1Mn19LCJSZXNvdXJjZSI6Imh0dHBzOi8vY2RuLWxmcy11cy0xLmhmLmNvL3JlcG9zLzU3LzRiLzU3NGI1OTk2Y2MwZmMzNzQ5MWE5NDMyN2E4ZjhlYThmNGU0MzBlMzNkNWZjNWI5YmFjODM5NDZjYmMzZGI3NGMvYWJiOGRhM2VhNzAwZmVhMTA2ZWI1NmIyZmI4Mjc2ZDg3YWJhYjMwYmNhY2Q5Yjk4NjQ0NmRjOTQyZGJhYWViMD9yZXNwb25zZS1jb250ZW50LWRpc3Bvc2l0aW9uPSomcmVzcG9uc2UtY29udGVudC10eXBlPSoifV19&Signature=Oxx6cwbM07fWc8jdNZ1oGb2UA1GNkUqVPOAKb6PAlpaZgT660UrUxGlDT%7E0sB5GcbmBIvprBGQGs5ZfC5khhpUnfh99hiDbA6wB31ZNvjIIarHa-eKhJLtObqBIZWtApjtZ4brZdwU8plpFQsOIp-eC7oGG2KBv-n177EjcZciMWOJWX7w8J8tbh9JNk3SOnr%7EtHMkuBxuqbFAYCxXj6w-%7EyfIiPTC0GhFZBT00ltr5ju4Z3N3vDinnPJV3MH8WTYG3PoiosSe%7EmcU4QIiJvClYDpW%7EmSBz3gdnqa3Rsda9DtSdLiOwbexb9eQtwsyb4iWba3R4RPIVtdBiyffwjfA__&Key-Pair-Id=K24J24Z295AEI9: HTTPSConnectionPool(host='cdn-lfs-us-1.hf.co', port=443): Read timed out.\n",
      "Trying to resume download...\n",
      "Fetching 13204 files:  89%|████████▊ | 11703/13204 [2:54:24<3:32:01,  8.48s/it]Error while downloading from https://cdn-lfs-us-1.hf.co/repos/57/4b/574b5996cc0fc37491a94327a8f8ea8f4e430e33d5fc5b9bac83946cbc3db74c/42333fd96152f99f3a59e756e085d76fefdb83079e798bb41787ae006a551e8d?response-content-disposition=inline%3B+filename*%3DUTF-8%27%276042_FullHDwebcam_before.avi%3B+filename%3D%226042_FullHDwebcam_before.avi%22%3B&response-content-type=video%2Fx-msvideo&Expires=1729409099&Policy=eyJTdGF0ZW1lbnQiOlt7IkNvbmRpdGlvbiI6eyJEYXRlTGVzc1RoYW4iOnsiQVdTOkVwb2NoVGltZSI6MTcyOTQwOTA5OX19LCJSZXNvdXJjZSI6Imh0dHBzOi8vY2RuLWxmcy11cy0xLmhmLmNvL3JlcG9zLzU3LzRiLzU3NGI1OTk2Y2MwZmMzNzQ5MWE5NDMyN2E4ZjhlYThmNGU0MzBlMzNkNWZjNWI5YmFjODM5NDZjYmMzZGI3NGMvNDIzMzNmZDk2MTUyZjk5ZjNhNTllNzU2ZTA4NWQ3NmZlZmRiODMwNzllNzk4YmI0MTc4N2FlMDA2YTU1MWU4ZD9yZXNwb25zZS1jb250ZW50LWRpc3Bvc2l0aW9uPSomcmVzcG9uc2UtY29udGVudC10eXBlPSoifV19&Signature=g%7EUjkPMuWpV78HbkVK%7Eeqp7RHQb-C0lQOXT0L-q85hJEFnkNP5askCGuO6pLfvgkLLZkyFxhzb04NqtCLw1Nxk856mnZ7OZTVXccx4fmL0Vf5JuQSO34hI2Jg6IAR4BXBJ0fA8yvVWrt-YREm9dbHAHY%7E%7EhhIoMh%7EU7Ba9TE-rVOqpbWFojJxtBIKrM97utxQNVGnpwXV%7EIy2OhmLw4p9kSqwp1K81irfz0WZz8ttHwm8S3w939kTFgLsxeyvpiJdpDEyrrp708rReDusH3JXJBg2qLwuMZtR-Heh7yo3amHVMCemB6l3fTV4mU%7ECGKyws8yxBXgdQ43wXKEYAneNw__&Key-Pair-Id=K24J24Z295AEI9: HTTPSConnectionPool(host='cdn-lfs-us-1.hf.co', port=443): Read timed out.\n",
      "Trying to resume download...\n",
      "Fetching 13204 files:  89%|████████▉ | 11738/13204 [2:57:03<1:35:06,  3.89s/it]Error while downloading from https://cdn-lfs-us-1.hf.co/repos/57/4b/574b5996cc0fc37491a94327a8f8ea8f4e430e33d5fc5b9bac83946cbc3db74c/de4884354537240b6cf9dedae151034d007b734972980b5f3c6b8dfa8eea9156?response-content-disposition=inline%3B+filename*%3DUTF-8%27%276114_IriunWebcam_after.avi%3B+filename%3D%226114_IriunWebcam_after.avi%22%3B&response-content-type=video%2Fx-msvideo&Expires=1729409273&Policy=eyJTdGF0ZW1lbnQiOlt7IkNvbmRpdGlvbiI6eyJEYXRlTGVzc1RoYW4iOnsiQVdTOkVwb2NoVGltZSI6MTcyOTQwOTI3M319LCJSZXNvdXJjZSI6Imh0dHBzOi8vY2RuLWxmcy11cy0xLmhmLmNvL3JlcG9zLzU3LzRiLzU3NGI1OTk2Y2MwZmMzNzQ5MWE5NDMyN2E4ZjhlYThmNGU0MzBlMzNkNWZjNWI5YmFjODM5NDZjYmMzZGI3NGMvZGU0ODg0MzU0NTM3MjQwYjZjZjlkZWRhZTE1MTAzNGQwMDdiNzM0OTcyOTgwYjVmM2M2YjhkZmE4ZWVhOTE1Nj9yZXNwb25zZS1jb250ZW50LWRpc3Bvc2l0aW9uPSomcmVzcG9uc2UtY29udGVudC10eXBlPSoifV19&Signature=CGa%7EabZN7x0A1D0kiUn5nXdQ76JLAOu9lprthYHH9G6AmFKpB4bRT5pNYvO5oJNkZlUSBGkzDRBTgD2deQ%7EtDtLkhVy8wlUDtSvTO7qrvWuJkqI-aXfOZkE0FYN1hSv0ZlJP4-5NL3ZaQYHy0wTWCfAKlWT-8rgjJb63OMsB1NntmYbrVnhqeAKELR57ijOD5IVnfVHHggKvkK-uFSL%7ErcmynO1RX7ETxZeqSC0uWRiNbhNIlhOWsniBo60YGcBGOmvmGsoicH59dvUED-6z78AejXY9kzLViATf-Cz0PzI6ZT8VwxcCHO-SlYtWPeW8WFwZn0q3VwLiEVbKKt2aQg__&Key-Pair-Id=K24J24Z295AEI9: HTTPSConnectionPool(host='cdn-lfs-us-1.hf.co', port=443): Read timed out.\n",
      "Trying to resume download...\n",
      "Fetching 13204 files:  89%|████████▉ | 11805/13204 [3:02:50<1:34:01,  4.03s/it]Error while downloading from https://cdn-lfs-us-1.hf.co/repos/57/4b/574b5996cc0fc37491a94327a8f8ea8f4e430e33d5fc5b9bac83946cbc3db74c/885230d045d1465717eb45c9bf2b6a443f32c017f3c2b0b4912551062cf255a5?response-content-disposition=inline%3B+filename*%3DUTF-8%27%276304_FullHDwebcam_before.avi%3B+filename%3D%226304_FullHDwebcam_before.avi%22%3B&response-content-type=video%2Fx-msvideo&Expires=1729409644&Policy=eyJTdGF0ZW1lbnQiOlt7IkNvbmRpdGlvbiI6eyJEYXRlTGVzc1RoYW4iOnsiQVdTOkVwb2NoVGltZSI6MTcyOTQwOTY0NH19LCJSZXNvdXJjZSI6Imh0dHBzOi8vY2RuLWxmcy11cy0xLmhmLmNvL3JlcG9zLzU3LzRiLzU3NGI1OTk2Y2MwZmMzNzQ5MWE5NDMyN2E4ZjhlYThmNGU0MzBlMzNkNWZjNWI5YmFjODM5NDZjYmMzZGI3NGMvODg1MjMwZDA0NWQxNDY1NzE3ZWI0NWM5YmYyYjZhNDQzZjMyYzAxN2YzYzJiMGI0OTEyNTUxMDYyY2YyNTVhNT9yZXNwb25zZS1jb250ZW50LWRpc3Bvc2l0aW9uPSomcmVzcG9uc2UtY29udGVudC10eXBlPSoifV19&Signature=VVbwAlOaxwi2LQPWF7H0yCB8nNuqpAkkU2UQty7K1u9IohcMryzTvBapRlHA5uoyIyyOuewggQkupf0GR3sN%7EHF8rO-Av7nalxIGE6uVVrCS6H7G55NhoumX5as5FNrXozPoDltUphZXMGE8IgjULsi43kLqNH5IREX-zYId9%7EZsd%7EG8aaLXUKq0QnHe%7E-pusi8fwvVXuyut8KEB4dDRVX5-LAOH1Fh3VEzR-7iGidG6vTrW8voRewvqlR3A2-2keZ6pfBqrRxlv-%7EHvzVkDSjZqZbAnbP4W8dTqVS7B3MCN6HjqDwmVi1ygy4VOQaOdiuLZEJisIahNo-5hPfDE6A__&Key-Pair-Id=K24J24Z295AEI9: HTTPSConnectionPool(host='cdn-lfs-us-1.hf.co', port=443): Read timed out.\n",
      "Trying to resume download...\n",
      "Error while downloading from https://cdn-lfs-us-1.hf.co/repos/57/4b/574b5996cc0fc37491a94327a8f8ea8f4e430e33d5fc5b9bac83946cbc3db74c/8270fa1ec43007d28422f012199dd0efb186a5d70469d62715df039aecb40eb9?response-content-disposition=inline%3B+filename*%3DUTF-8%27%276304_USBVideo_after.avi%3B+filename%3D%226304_USBVideo_after.avi%22%3B&response-content-type=video%2Fx-msvideo&Expires=1729409666&Policy=eyJTdGF0ZW1lbnQiOlt7IkNvbmRpdGlvbiI6eyJEYXRlTGVzc1RoYW4iOnsiQVdTOkVwb2NoVGltZSI6MTcyOTQwOTY2Nn19LCJSZXNvdXJjZSI6Imh0dHBzOi8vY2RuLWxmcy11cy0xLmhmLmNvL3JlcG9zLzU3LzRiLzU3NGI1OTk2Y2MwZmMzNzQ5MWE5NDMyN2E4ZjhlYThmNGU0MzBlMzNkNWZjNWI5YmFjODM5NDZjYmMzZGI3NGMvODI3MGZhMWVjNDMwMDdkMjg0MjJmMDEyMTk5ZGQwZWZiMTg2YTVkNzA0NjlkNjI3MTVkZjAzOWFlY2I0MGViOT9yZXNwb25zZS1jb250ZW50LWRpc3Bvc2l0aW9uPSomcmVzcG9uc2UtY29udGVudC10eXBlPSoifV19&Signature=YZeMdbeP%7ECVwXoKLkTibrG6xhkNmoq6qob34bRCo9Je4%7EHf3tCNsugtDta38jqd0ybE56NobLZ%7E9lAdykX5WUNGPr1o-v-bwfXAUcp5yeMo9P-aSXvMf27LezKA%7EihHkdgG0JYwq6qeUwfZKgoc212icajiiTlxpIidmBYplgmEgg8dZJYnjolUnfv3Tp2CHzQjBmtyV0irt%7E9MvF%7E31HeSCHxq6RGEP1RK32icg6ig5cWq4xv4p4iYdD3ZeKuVWM84pbVrRqbWkUILjeyyjfvjhtMF3tYWU6C8IUFLhFABGFkracHOJ0k15Wp6mdL1yOCdAQxoR%7Ej9caw0ohf%7EQxA__&Key-Pair-Id=K24J24Z295AEI9: HTTPSConnectionPool(host='cdn-lfs-us-1.hf.co', port=443): Read timed out.\n",
      "Trying to resume download...\n",
      "Fetching 13204 files:  92%|█████████▏| 12090/13204 [3:34:09<2:14:11,  7.23s/it]Error while downloading from https://cdn-lfs-us-1.hf.co/repos/57/4b/574b5996cc0fc37491a94327a8f8ea8f4e430e33d5fc5b9bac83946cbc3db74c/34acc4de9450232c3063bded4a9b05de827424058b4072f0a741b7fdf50e0128?response-content-disposition=inline%3B+filename*%3DUTF-8%27%277082_FullHDwebcam_before.avi%3B+filename%3D%227082_FullHDwebcam_before.avi%22%3B&response-content-type=video%2Fx-msvideo&Expires=1729411489&Policy=eyJTdGF0ZW1lbnQiOlt7IkNvbmRpdGlvbiI6eyJEYXRlTGVzc1RoYW4iOnsiQVdTOkVwb2NoVGltZSI6MTcyOTQxMTQ4OX19LCJSZXNvdXJjZSI6Imh0dHBzOi8vY2RuLWxmcy11cy0xLmhmLmNvL3JlcG9zLzU3LzRiLzU3NGI1OTk2Y2MwZmMzNzQ5MWE5NDMyN2E4ZjhlYThmNGU0MzBlMzNkNWZjNWI5YmFjODM5NDZjYmMzZGI3NGMvMzRhY2M0ZGU5NDUwMjMyYzMwNjNiZGVkNGE5YjA1ZGU4Mjc0MjQwNThiNDA3MmYwYTc0MWI3ZmRmNTBlMDEyOD9yZXNwb25zZS1jb250ZW50LWRpc3Bvc2l0aW9uPSomcmVzcG9uc2UtY29udGVudC10eXBlPSoifV19&Signature=hBDZl48Ysa8E9aSPz3qBx9DbA17KzkIIFtFCtSj5SQYa1I0hLyHAIKbp0tS5Yqu4aWx6vMa5sHXKqR0DXz2Bo0PK77SdU-aa6ETciYIxQFrzLPar6hRuwNj-ME6aNVt8ROzvkMy2crHMTYWY7naFZJ1mUBgy4InWZdPONtYYJm6n-dR0VgI9kMLSKcDw21RbBZw0xJHsrQAjcOYQM5ZPZd1PkJHEkmk9WjxACSLBvy%7E35RQfaxFNsAEPqJooL0XsiniimrCLkGSKN6j-wlaVPs60Jwub1FnmW-%7EIaUs6XDgqfIwqkkaucR8dTqVJGchtQk1nfgAfqUXdy5Qe31agbw__&Key-Pair-Id=K24J24Z295AEI9: HTTPSConnectionPool(host='cdn-lfs-us-1.hf.co', port=443): Read timed out.\n",
      "Trying to resume download...\n",
      "Fetching 13204 files:  93%|█████████▎| 12294/13204 [3:57:30<2:25:08,  9.57s/it]Error while downloading from https://cdn-lfs-us-1.hf.co/repos/57/4b/574b5996cc0fc37491a94327a8f8ea8f4e430e33d5fc5b9bac83946cbc3db74c/8d8216b07089245cc5d8394738480af6234190a3ad0f135caa83b4b1fdbeb705?response-content-disposition=inline%3B+filename*%3DUTF-8%27%277596_FullHDwebcam_after.avi%3B+filename%3D%227596_FullHDwebcam_after.avi%22%3B&response-content-type=video%2Fx-msvideo&Expires=1729412865&Policy=eyJTdGF0ZW1lbnQiOlt7IkNvbmRpdGlvbiI6eyJEYXRlTGVzc1RoYW4iOnsiQVdTOkVwb2NoVGltZSI6MTcyOTQxMjg2NX19LCJSZXNvdXJjZSI6Imh0dHBzOi8vY2RuLWxmcy11cy0xLmhmLmNvL3JlcG9zLzU3LzRiLzU3NGI1OTk2Y2MwZmMzNzQ5MWE5NDMyN2E4ZjhlYThmNGU0MzBlMzNkNWZjNWI5YmFjODM5NDZjYmMzZGI3NGMvOGQ4MjE2YjA3MDg5MjQ1Y2M1ZDgzOTQ3Mzg0ODBhZjYyMzQxOTBhM2FkMGYxMzVjYWE4M2I0YjFmZGJlYjcwNT9yZXNwb25zZS1jb250ZW50LWRpc3Bvc2l0aW9uPSomcmVzcG9uc2UtY29udGVudC10eXBlPSoifV19&Signature=nPFcvukY1QLzR6K23wFPlm5ff%7EHv35BNzuSkNxwXuC4ue3hK5uYp78J7Aaka4pbz4gJ0dQJm8-Hd17czDPdaE8XbEB5OOqt84aU-H7m8yjuFXZpyRF5A6FfbLLvGHuO1nl2uvWjWjQLe6rCn5ZUg0YT8Ic5Fqf9%7EUF80Hlc18x4OPgNhGKoJ-hVDxsGQw4z4sxxXl7fgQKbdboFHGtY2pgU2gqy1cJ4z-Y2z3UOFdcmL4x03c7goOg8iJPSUYTPFhh7A1PLxavSNMvjnGfc1HcndDSb3Yz9li7Yaoiz-TROxbXHWsR1HN48b6nyc-H8RECwwSF3WCz2Kl68BEzzaqw__&Key-Pair-Id=K24J24Z295AEI9: HTTPSConnectionPool(host='cdn-lfs-us-1.hf.co', port=443): Read timed out.\n",
      "Trying to resume download...\n",
      "Fetching 13204 files:  94%|█████████▍| 12454/13204 [4:12:40<1:05:38,  5.25s/it]Error while downloading from https://cdn-lfs-us-1.hf.co/repos/57/4b/574b5996cc0fc37491a94327a8f8ea8f4e430e33d5fc5b9bac83946cbc3db74c/df83b7dda25b98135b0d2c0bc562ef8ffe27ab70b228a8810e89f084340b22a7?response-content-disposition=inline%3B+filename*%3DUTF-8%27%277959_FullHDwebcam_before.avi%3B+filename%3D%227959_FullHDwebcam_before.avi%22%3B&response-content-type=video%2Fx-msvideo&Expires=1729413832&Policy=eyJTdGF0ZW1lbnQiOlt7IkNvbmRpdGlvbiI6eyJEYXRlTGVzc1RoYW4iOnsiQVdTOkVwb2NoVGltZSI6MTcyOTQxMzgzMn19LCJSZXNvdXJjZSI6Imh0dHBzOi8vY2RuLWxmcy11cy0xLmhmLmNvL3JlcG9zLzU3LzRiLzU3NGI1OTk2Y2MwZmMzNzQ5MWE5NDMyN2E4ZjhlYThmNGU0MzBlMzNkNWZjNWI5YmFjODM5NDZjYmMzZGI3NGMvZGY4M2I3ZGRhMjViOTgxMzViMGQyYzBiYzU2MmVmOGZmZTI3YWI3MGIyMjhhODgxMGU4OWYwODQzNDBiMjJhNz9yZXNwb25zZS1jb250ZW50LWRpc3Bvc2l0aW9uPSomcmVzcG9uc2UtY29udGVudC10eXBlPSoifV19&Signature=jLG2dMXquLbdAgKYC7LF1WqxB6Y2qxFm4CMXI9c1us-AstokugsEYulwMaKcVyhwTIIqCqlpgGy4mU9GY8%7EDJteGo35bkmUA6Mph-hEwQbtmgAQ2XaE0GKgoqM1bZGQrpfO6G%7EpNjmbs-WJi%7Ek9INoK%7EoVfVZzwNKLv6zGqEihVsaCI42NyRqEH3LOORbTVbzSQlskyvsTPMc0s344yAWJfPszjdAdrqprrvWx5a8X6CX3wwyUgnsx5j0xtsxa1Yfhaf9kIpICnB6OG6vhScbTTrFNuqlgD2AzEqokY%7ED1cZP5VEZYghprZWDdJGeHdHVbfWzAjc%7Eu71xKEa6bceag__&Key-Pair-Id=K24J24Z295AEI9: HTTPSConnectionPool(host='cdn-lfs-us-1.hf.co', port=443): Read timed out.\n",
      "Trying to resume download...\n",
      "Fetching 13204 files: 100%|██████████| 13204/13204 [5:35:12<00:00,  1.52s/it]  \n"
     ]
    },
    {
     "data": {
      "text/plain": [
       "'C:\\\\Users\\\\Ivan\\\\Desktop\\\\Proj\\\\rppg\\\\mcd_rppg'"
      ]
     },
     "execution_count": 5,
     "metadata": {},
     "output_type": "execute_result"
    }
   ],
   "source": [
    "from huggingface_hub import snapshot_download\n",
    "snapshot_download(repo_id=\"kyegorov/mcd_rppg\",local_dir='./mcd_rppg',cache_dir='./mcd_rppg/cache', repo_type=\"dataset\")"
   ]
  },
  {
   "cell_type": "code",
   "execution_count": 5,
   "metadata": {},
   "outputs": [
    {
     "data": {
      "text/plain": [
       "'e:\\\\FirstProj\\\\rPPG'"
      ]
     },
     "execution_count": 5,
     "metadata": {},
     "output_type": "execute_result"
    }
   ],
   "source": [
    "import os\n",
    "\n",
    "\n",
    "os.getcwd()"
   ]
  },
  {
   "cell_type": "code",
   "execution_count": 2,
   "metadata": {},
   "outputs": [
    {
     "data": {
      "text/plain": [
       "['__builtins__',\n",
       " '__cached__',\n",
       " '__doc__',\n",
       " '__file__',\n",
       " '__loader__',\n",
       " '__name__',\n",
       " '__package__',\n",
       " '__path__',\n",
       " '__spec__',\n",
       " 'data_loader']"
      ]
     },
     "execution_count": 2,
     "metadata": {},
     "output_type": "execute_result"
    }
   ],
   "source": [
    "dir(rPPG_Toolbox.dataset)"
   ]
  },
  {
   "cell_type": "code",
   "execution_count": 3,
   "metadata": {},
   "outputs": [],
   "source": [
    "parser = rPPG_Toolbox.dataset.data_loader.BaseLoader"
   ]
  },
  {
   "cell_type": "code",
   "execution_count": 4,
   "metadata": {},
   "outputs": [],
   "source": [
    "import numpy as np\n",
    "from scipy.stats import gaussian_kde"
   ]
  },
  {
   "cell_type": "code",
   "execution_count": 14,
   "metadata": {},
   "outputs": [
    {
     "data": {
      "text/plain": [
       "matrix([[109.4941901 ,  88.8418154 ],\n",
       "        [110.06596332,  92.24078273]])"
      ]
     },
     "execution_count": 14,
     "metadata": {},
     "output_type": "execute_result"
    }
   ],
   "source": [
    "np.matrix(xy)"
   ]
  },
  {
   "cell_type": "code",
   "execution_count": 19,
   "metadata": {},
   "outputs": [
    {
     "data": {
      "text/plain": [
       "array([52103.26720011, 52103.26720011])"
      ]
     },
     "execution_count": 19,
     "metadata": {},
     "output_type": "execute_result"
    }
   ],
   "source": [
    "xy = np.array([[109.4941901 ,  88.8418154 ],\n",
    "       [110.06596332,  92.24078273]]).astype(np.float64)\n",
    "#xy = np.matrix(xy)\n",
    "gaussian_kde(xy)(xy)"
   ]
  },
  {
   "cell_type": "code",
   "execution_count": 21,
   "metadata": {},
   "outputs": [
    {
     "data": {
      "text/plain": [
       "array([1.42108547e-14, 3.72128822e+02])"
      ]
     },
     "execution_count": 21,
     "metadata": {},
     "output_type": "execute_result"
    }
   ],
   "source": [
    "np.linalg.eigh(np.cov(xy))[0]"
   ]
  },
  {
   "cell_type": "code",
   "execution_count": 23,
   "metadata": {},
   "outputs": [
    {
     "ename": "TypeError",
     "evalue": "only integer scalar arrays can be converted to a scalar index",
     "output_type": "error",
     "traceback": [
      "\u001b[1;31m---------------------------------------------------------------------------\u001b[0m",
      "\u001b[1;31mTypeError\u001b[0m                                 Traceback (most recent call last)",
      "Cell \u001b[1;32mIn[23], line 1\u001b[0m\n\u001b[1;32m----> 1\u001b[0m \u001b[43mnp\u001b[49m\u001b[38;5;241;43m.\u001b[39;49m\u001b[43meye\u001b[49m\u001b[43m(\u001b[49m\u001b[43mnp\u001b[49m\u001b[38;5;241;43m.\u001b[39;49m\u001b[43mcov\u001b[49m\u001b[43m(\u001b[49m\u001b[43mxy\u001b[49m\u001b[43m)\u001b[49m\u001b[43m)\u001b[49m\n",
      "File \u001b[1;32me:\\Anaconda\\envs\\rppg-toolbox\\lib\\site-packages\\numpy\\lib\\twodim_base.py:214\u001b[0m, in \u001b[0;36meye\u001b[1;34m(N, M, k, dtype, order, like)\u001b[0m\n\u001b[0;32m    212\u001b[0m \u001b[38;5;28;01mif\u001b[39;00m M \u001b[38;5;129;01mis\u001b[39;00m \u001b[38;5;28;01mNone\u001b[39;00m:\n\u001b[0;32m    213\u001b[0m     M \u001b[38;5;241m=\u001b[39m N\n\u001b[1;32m--> 214\u001b[0m m \u001b[38;5;241m=\u001b[39m \u001b[43mzeros\u001b[49m\u001b[43m(\u001b[49m\u001b[43m(\u001b[49m\u001b[43mN\u001b[49m\u001b[43m,\u001b[49m\u001b[43m \u001b[49m\u001b[43mM\u001b[49m\u001b[43m)\u001b[49m\u001b[43m,\u001b[49m\u001b[43m \u001b[49m\u001b[43mdtype\u001b[49m\u001b[38;5;241;43m=\u001b[39;49m\u001b[43mdtype\u001b[49m\u001b[43m,\u001b[49m\u001b[43m \u001b[49m\u001b[43morder\u001b[49m\u001b[38;5;241;43m=\u001b[39;49m\u001b[43morder\u001b[49m\u001b[43m)\u001b[49m\n\u001b[0;32m    215\u001b[0m \u001b[38;5;28;01mif\u001b[39;00m k \u001b[38;5;241m>\u001b[39m\u001b[38;5;241m=\u001b[39m M:\n\u001b[0;32m    216\u001b[0m     \u001b[38;5;28;01mreturn\u001b[39;00m m\n",
      "\u001b[1;31mTypeError\u001b[0m: only integer scalar arrays can be converted to a scalar index"
     ]
    }
   ],
   "source": [
    "np.eye(np.cov(xy))"
   ]
  }
 ],
 "metadata": {
  "kernelspec": {
   "display_name": ".venv",
   "language": "python",
   "name": "python3"
  },
  "language_info": {
   "codemirror_mode": {
    "name": "ipython",
    "version": 3
   },
   "file_extension": ".py",
   "mimetype": "text/x-python",
   "name": "python",
   "nbconvert_exporter": "python",
   "pygments_lexer": "ipython3",
   "version": "3.12.7"
  }
 },
 "nbformat": 4,
 "nbformat_minor": 2
}
